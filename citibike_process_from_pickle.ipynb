{
 "cells": [
  {
   "cell_type": "code",
   "execution_count": 1,
   "metadata": {},
   "outputs": [],
   "source": [
    "%matplotlib inline\n",
    "import numpy as np\n",
    "import pandas as pd\n",
    "import json"
   ]
  },
  {
   "cell_type": "code",
   "execution_count": 2,
   "metadata": {},
   "outputs": [],
   "source": [
    "df = pd.read_pickle(\"citibikedata/9000timeslots.pickle\")\n",
    "# Please note that some unused columns were deleted.\n",
    "# However, in all other respects the pickled data was \"raw\".\n",
    "# Row cleaning had not yet taken place."
   ]
  },
  {
   "cell_type": "code",
   "execution_count": 3,
   "metadata": {},
   "outputs": [],
   "source": [
    "STATIONDB = pd.read_pickle(\"citibikedata/ALLSTATIONS.pickle\")"
   ]
  },
  {
   "cell_type": "code",
   "execution_count": 4,
   "metadata": {},
   "outputs": [],
   "source": [
    "TARGETSTATION = 465   # Happens to be my favorite TimesSq station on 41st."
   ]
  },
  {
   "cell_type": "code",
   "execution_count": 5,
   "metadata": {},
   "outputs": [
    {
     "data": {
      "text/plain": [
       "is_installed           int32\n",
       "is_renting             int32\n",
       "is_returning           int32\n",
       "last_reported          int32\n",
       "num_bikes_available    int32\n",
       "num_bikes_disabled     int32\n",
       "num_docks_available    int32\n",
       "num_docks_disabled     int32\n",
       "station_id             int32\n",
       "ts                     int64\n",
       "dtype: object"
      ]
     },
     "execution_count": 5,
     "metadata": {},
     "output_type": "execute_result"
    }
   ],
   "source": [
    "df.dtypes"
   ]
  },
  {
   "cell_type": "code",
   "execution_count": 6,
   "metadata": {},
   "outputs": [],
   "source": [
    "# Houston we have a problem!\n",
    "# We are getting files with \"last_reported\" of ZERO so those must be filtered out of the dataframe first.\n",
    "df = df[df['last_reported'] > 1000]"
   ]
  },
  {
   "cell_type": "code",
   "execution_count": 7,
   "metadata": {},
   "outputs": [],
   "source": [
    "# OK now the df is clean of bad timestamps in the \"last_reported\" column.\n",
    "# Converting from typical second-granularity epoch timestamp requires unit='s'\n",
    "df['most_recent_conn_DT'] = pd.to_datetime(df['last_reported'], unit='s')"
   ]
  },
  {
   "cell_type": "code",
   "execution_count": 8,
   "metadata": {},
   "outputs": [
    {
     "data": {
      "text/plain": [
       "is_installed                    int32\n",
       "is_renting                      int32\n",
       "is_returning                    int32\n",
       "last_reported                   int32\n",
       "num_bikes_available             int32\n",
       "num_bikes_disabled              int32\n",
       "num_docks_available             int32\n",
       "num_docks_disabled              int32\n",
       "station_id                      int32\n",
       "ts                              int64\n",
       "most_recent_conn_DT    datetime64[ns]\n",
       "dtype: object"
      ]
     },
     "execution_count": 8,
     "metadata": {},
     "output_type": "execute_result"
    }
   ],
   "source": [
    "# The shape of a dataframe is its row count x column count\n",
    "df.dtypes"
   ]
  },
  {
   "cell_type": "code",
   "execution_count": 9,
   "metadata": {},
   "outputs": [
    {
     "data": {
      "text/plain": [
       "<matplotlib.axes._subplots.AxesSubplot at 0x7fea432f0358>"
      ]
     },
     "execution_count": 9,
     "metadata": {},
     "output_type": "execute_result"
    },
    {
     "data": {
      "image/png": "[encoded data removed]",
      "text/plain": [
       "<Figure size 432x288 with 1 Axes>"
      ]
     },
     "metadata": {
      "needs_background": "light"
     },
     "output_type": "display_data"
    }
   ],
   "source": [
    "#A successful plotting of just one station:\n",
    "df[df['station_id']==TARGETSTATION].plot(x='most_recent_conn_DT', y=['num_bikes_available'])"
   ]
  },
  {
   "cell_type": "markdown",
   "metadata": {},
   "source": [
    "# 1: STATIONS WITH MOST \"volatility\"\n",
    "\n",
    "Every station sends its reports to HQ only sporadically, not on a fixed schedule.\n",
    "\n",
    "So as a quick measure of volatility of station S, we could take the time-sorted signatures for station S, and determine the velocity between each adjacent pair S[i] and S[i+1], and compute the sum of the velocities.\n",
    "\n",
    "The velocity could simply be the sum, across all columns C, of abs(S[i][c] - S[i+1][c]).  The will as desired produce a velocity of zero if two adjacent reports actually had no net change to report.\n",
    "\n",
    "We could mute the velocity by the duration between S[i] and S[i+1] but this isn't really necessary since max(i) itself will be higher for the highest-active stations anyway, so they will naturally have more velocities being summed.\n",
    "\n",
    "## 1.1:  \"QuickVolatility\"\n",
    "\n",
    "The quickest approach to computing volatility would be to simply produce the count of individual report rows per station.  There is already a great deal\n",
    "of spread on that particular metric.\n",
    "\n",
    "Let's compute a histogram based on QuickVolatility!\n"
   ]
  },
  {
   "cell_type": "code",
   "execution_count": 10,
   "metadata": {},
   "outputs": [],
   "source": [
    "df = df.drop(columns=['is_installed','is_renting','is_returning','ts'], \n",
    "             errors='ignore')"
   ]
  },
  {
   "cell_type": "code",
   "execution_count": 11,
   "metadata": {},
   "outputs": [
    {
     "data": {
      "text/plain": [
       "last_reported                   int32\n",
       "num_bikes_available             int32\n",
       "num_bikes_disabled              int32\n",
       "num_docks_available             int32\n",
       "num_docks_disabled              int32\n",
       "station_id                      int32\n",
       "most_recent_conn_DT    datetime64[ns]\n",
       "dtype: object"
      ]
     },
     "execution_count": 11,
     "metadata": {},
     "output_type": "execute_result"
    }
   ],
   "source": [
    "df.dtypes"
   ]
  },
  {
   "cell_type": "code",
   "execution_count": 12,
   "metadata": {},
   "outputs": [
    {
     "data": {
      "text/plain": [
       "(7247553, 7)"
      ]
     },
     "execution_count": 12,
     "metadata": {},
     "output_type": "execute_result"
    }
   ],
   "source": [
    "df.shape"
   ]
  },
  {
   "cell_type": "code",
   "execution_count": 13,
   "metadata": {},
   "outputs": [],
   "source": [
    "df = df.drop_duplicates()"
   ]
  },
  {
   "cell_type": "code",
   "execution_count": 14,
   "metadata": {},
   "outputs": [
    {
     "data": {
      "text/plain": [
       "(639047, 7)"
      ]
     },
     "execution_count": 14,
     "metadata": {},
     "output_type": "execute_result"
    }
   ],
   "source": [
    "df.shape"
   ]
  },
  {
   "cell_type": "code",
   "execution_count": 15,
   "metadata": {},
   "outputs": [],
   "source": [
    "df.sort_values(by=['station_id','most_recent_conn_DT'], inplace=True)"
   ]
  },
  {
   "cell_type": "code",
   "execution_count": 16,
   "metadata": {},
   "outputs": [],
   "source": [
    "# This will create an obj of type DataFrameGroupBy\n",
    "per_station_info = df.groupby('station_id')"
   ]
  },
  {
   "cell_type": "code",
   "execution_count": 17,
   "metadata": {},
   "outputs": [
    {
     "data": {
      "text/plain": [
       "807"
      ]
     },
     "execution_count": 17,
     "metadata": {},
     "output_type": "execute_result"
    }
   ],
   "source": [
    "# OK so there are 845 actual listed stations in the official station DB.\n",
    "# But not all are online as you can see here:\n",
    "per_station_info.ngroups"
   ]
  },
  {
   "cell_type": "code",
   "execution_count": 18,
   "metadata": {},
   "outputs": [
    {
     "data": {
      "text/plain": [
       "Int64Index([ 285,  301,  307,  312,  358,  382,  432,  438,  487,  532,\n",
       "            ...\n",
       "            3776, 3777, 3778, 3779, 3781, 3782, 3787, 3788, 3790, 3791],\n",
       "           dtype='int64', name='station_id', length=845)"
      ]
     },
     "execution_count": 18,
     "metadata": {},
     "output_type": "execute_result"
    }
   ],
   "source": [
    "STATIONDB.index"
   ]
  },
  {
   "cell_type": "code",
   "execution_count": 27,
   "metadata": {},
   "outputs": [
    {
     "data": {
      "text/plain": [
       "capacity                                                                         55\n",
       "eightd_has_key_dispenser                                                      False\n",
       "eightd_station_services                                                         NaN\n",
       "electric_bike_surcharge_waiver                                                False\n",
       "external_id                                    66db237e-0aca-11e7-82f6-3863bb44ef7c\n",
       "has_kiosk                                                                      True\n",
       "lat                                                                         40.7673\n",
       "lon                                                                        -73.9939\n",
       "name                                                               W 52 St & 11 Ave\n",
       "region_id                                                                        71\n",
       "rental_methods                                                    [CREDITCARD, KEY]\n",
       "rental_url                        http://app.citibikenyc.com/S6Lr/IBV092JufD?sta...\n",
       "short_name                                                                  6926.01\n",
       "Name: 72, dtype: object"
      ]
     },
     "execution_count": 27,
     "metadata": {},
     "output_type": "execute_result"
    }
   ],
   "source": [
    "STATIONDB.loc[72]"
   ]
  },
  {
   "cell_type": "code",
   "execution_count": null,
   "metadata": {},
   "outputs": [],
   "source": []
  },
  {
   "cell_type": "code",
   "execution_count": 19,
   "metadata": {},
   "outputs": [
    {
     "data": {
      "text/plain": [
       "array([[<matplotlib.axes._subplots.AxesSubplot object at 0x7fea41189860>]], dtype=object)"
      ]
     },
     "execution_count": 19,
     "metadata": {},
     "output_type": "execute_result"
    },
    {
     "data": {
      "image/png": "[encoded data removed]",
      "text/plain": [
       "<Figure size 432x288 with 1 Axes>"
      ]
     },
     "metadata": {
      "needs_background": "light"
     },
     "output_type": "display_data"
    }
   ],
   "source": [
    "# TRIVIAL  \"QuickVolatility\" is just the count per station.\n",
    "per_station_info.count().hist(column='last_reported',bins=10)"
   ]
  },
  {
   "cell_type": "code",
   "execution_count": 20,
   "metadata": {},
   "outputs": [],
   "source": [
    "# What are the top 20 stations in QuickVolatility?\n",
    "df_station_to_quickvol = per_station_info.count()"
   ]
  },
  {
   "cell_type": "code",
   "execution_count": 38,
   "metadata": {},
   "outputs": [],
   "source": [
    "df_station_to_quickvol = df_station_to_quickvol.sort_values(by='last_reported', ascending=False)[:20]"
   ]
  },
  {
   "cell_type": "code",
   "execution_count": 41,
   "metadata": {},
   "outputs": [],
   "source": [
    "# BRING IN THE STATION PARTICULARS (lat, long, station name)\n",
    "# This join should not be done more than once; re-join fails.\n",
    "# df_station_to_quickvol.join(STATIONDB)"
   ]
  },
  {
   "cell_type": "code",
   "execution_count": 50,
   "metadata": {},
   "outputs": [
    {
     "ename": "TypeError",
     "evalue": "'type' object is not subscriptable",
     "output_type": "error",
     "traceback": [
      "\u001b[0;31m---------------------------------------------------------------------------\u001b[0m",
      "\u001b[0;31mTypeError\u001b[0m                                 Traceback (most recent call last)",
      "\u001b[0;32m<ipython-input-50-23b8f623b741>\u001b[0m in \u001b[0;36m<module>\u001b[0;34m\u001b[0m\n\u001b[1;32m      1\u001b[0m \u001b[0mtopstation\u001b[0m \u001b[0;34m=\u001b[0m \u001b[0mdf_station_to_quickvol\u001b[0m\u001b[0;34m.\u001b[0m\u001b[0miloc\u001b[0m\u001b[0;34m[\u001b[0m\u001b[0;36m0\u001b[0m\u001b[0;34m]\u001b[0m\u001b[0;34m\u001b[0m\u001b[0;34m\u001b[0m\u001b[0m\n\u001b[0;32m----> 2\u001b[0;31m \u001b[0mtype\u001b[0m\u001b[0;34m(\u001b[0m\u001b[0mdf_station_to_quickvol\u001b[0m\u001b[0;34m[\u001b[0m\u001b[0;34m'lat'\u001b[0m\u001b[0;34m]\u001b[0m\u001b[0;34m)\u001b[0m\u001b[0;34m[\u001b[0m\u001b[0;36m0\u001b[0m\u001b[0;34m]\u001b[0m\u001b[0;34m\u001b[0m\u001b[0;34m\u001b[0m\u001b[0m\n\u001b[0m",
      "\u001b[0;31mTypeError\u001b[0m: 'type' object is not subscriptable"
     ]
    }
   ],
   "source": [
    "topstation = df_station_to_quickvol.iloc[0]\n",
    "type(df_station_to_quickvol['lat']"
   ]
  },
  {
   "cell_type": "code",
   "execution_count": 51,
   "metadata": {},
   "outputs": [],
   "source": [
    "from credentials import GOOMAPSAPIKEY"
   ]
  },
  {
   "cell_type": "markdown",
   "metadata": {},
   "source": [
    "Let's find out exactly how much data we have.  The granularity is per minute, but what is the range?\n"
   ]
  },
  {
   "cell_type": "code",
   "execution_count": 52,
   "metadata": {},
   "outputs": [],
   "source": [
    "from bokeh.io import output_file, show\n",
    "from bokeh.models import ColumnDataSource, GMapOptions\n",
    "from bokeh.plotting import gmap\n",
    "\n",
    "output_file(\"nyc_gmaps.html\")\n",
    "\n",
    "map_options = GMapOptions(lat=topstation['lat'],\n",
    "                          lng=topstation['lon'], map_type=\"roadmap\", zoom=11)\n",
    "\n",
    "# For GMaps to function, Google requires you obtain and enable an API key:\n",
    "#\n",
    "#     https://developers.google.com/maps/documentation/javascript/get-api-key\n",
    "#\n",
    "# Replace the value below with your personal API key:\n",
    "p = gmap(GOOMAPSAPIKEY, map_options, title=\"Most Active CitiBike Stations\")\n",
    "\n",
    "source = ColumnDataSource(\n",
    "    data=dict(lat=df_station_to_quickvol['lat'],\n",
    "              lon=df_station_to_quickvol['lon'])\n",
    ")\n",
    "\n",
    "p.circle(x=\"lon\", y=\"lat\", size=15, fill_color=\"blue\", fill_alpha=0.8, source=source)\n",
    "\n",
    "show(p)"
   ]
  },
  {
   "cell_type": "code",
   "execution_count": null,
   "metadata": {},
   "outputs": [],
   "source": []
  },
  {
   "cell_type": "code",
   "execution_count": null,
   "metadata": {},
   "outputs": [],
   "source": []
  },
  {
   "cell_type": "code",
   "execution_count": null,
   "metadata": {},
   "outputs": [],
   "source": []
  },
  {
   "cell_type": "code",
   "execution_count": null,
   "metadata": {},
   "outputs": [],
   "source": []
  }
 ],
 "metadata": {
  "kernelspec": {
   "display_name": "Python 3",
   "language": "python",
   "name": "python3"
  },
  "language_info": {
   "codemirror_mode": {
    "name": "ipython",
    "version": 3
   },
   "file_extension": ".py",
   "mimetype": "text/x-python",
   "name": "python",
   "nbconvert_exporter": "python",
   "pygments_lexer": "ipython3",
   "version": "3.6.7"
  }
 },
 "nbformat": 4,
 "nbformat_minor": 2
}
