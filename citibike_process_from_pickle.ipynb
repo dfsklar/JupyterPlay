{
 "cells": [
  {
   "cell_type": "code",
   "execution_count": null,
   "metadata": {},
   "outputs": [],
   "source": [
    "%matplotlib inline\n",
    "import numpy as np\n",
    "import pandas as pd\n",
    "import json"
   ]
  },
  {
   "cell_type": "code",
   "execution_count": null,
   "metadata": {},
   "outputs": [],
   "source": [
    "df = pd.read_pickle(\"citibikedata/9000timeslots.pickle\")\n",
    "# Please note that some unused columns were deleted.\n",
    "# However, in all other respects the pickled data was \"raw\".\n",
    "# Row cleaning had not yet taken place."
   ]
  },
  {
   "cell_type": "code",
   "execution_count": null,
   "metadata": {},
   "outputs": [],
   "source": [
    "STATIONDB = pd.read_pickle(\"citibikedata/ALLSTATIONS.pickle\")"
   ]
  },
  {
   "cell_type": "code",
   "execution_count": null,
   "metadata": {},
   "outputs": [],
   "source": [
    "TARGETSTATION = 465   # Happens to be my favorite TimesSq station on 41st.\n",
    "#TARGETSTATION = 523   # This is a station in prime territory but strangely marked as low-activity"
   ]
  },
  {
   "cell_type": "code",
   "execution_count": null,
   "metadata": {},
   "outputs": [],
   "source": [
    "# Houston we have a problem!\n",
    "# We are getting files with \"last_reported\" of ZERO so those must be filtered out of the dataframe first.\n",
    "df = df[df['last_reported'] > 1000]\n",
    "# OK now the df is clean of bad timestamps in the \"last_reported\" column.\n",
    "# Converting from typical second-granularity epoch timestamp requires unit='s'\n",
    "df['most_recent_conn_DT'] = pd.to_datetime(df['last_reported'], unit='s')"
   ]
  },
  {
   "cell_type": "code",
   "execution_count": null,
   "metadata": {},
   "outputs": [],
   "source": [
    "# BRING IN THE STATION PARTICULARS (lat, long, station name)\n",
    "# This join should not be done more than once; re-join fails.\n",
    "# WHOA do not do the join too early!  We have millions of rows at this point.\n",
    "#df = df.join(STATIONDB)"
   ]
  },
  {
   "cell_type": "code",
   "execution_count": null,
   "metadata": {},
   "outputs": [],
   "source": []
  },
  {
   "cell_type": "code",
   "execution_count": null,
   "metadata": {},
   "outputs": [],
   "source": [
    "# The shape of a dataframe is its row count x column count\n",
    "df.dtypes"
   ]
  },
  {
   "cell_type": "code",
   "execution_count": null,
   "metadata": {},
   "outputs": [],
   "source": [
    "# if you want a successful plotting of just one station:\n",
    "#df[df['station_id']==TARGETSTATION].plot(x='most_recent_conn_DT', y=['num_bikes_available'])\n",
    "df[df['station_id']==TARGETSTATION]"
   ]
  },
  {
   "cell_type": "markdown",
   "metadata": {},
   "source": [
    "# 1: STATIONS WITH MOST \"volatility\"\n",
    "\n",
    "Every station sends its reports to HQ only sporadically, not on a fixed schedule.\n",
    "\n",
    "So as a quick measure of volatility of station S, we could take the time-sorted signatures for station S, and determine the velocity between each adjacent pair S[i] and S[i+1], and compute the sum of the velocities.\n",
    "\n",
    "The velocity could simply be the sum, across all columns C, of abs(S[i][c] - S[i+1][c]).  The will as desired produce a velocity of zero if two adjacent reports actually had no net change to report.\n",
    "\n",
    "We could mute the velocity by the duration between S[i] and S[i+1] but this isn't really necessary since max(i) itself will be higher for the highest-active stations anyway, so they will naturally have more velocities being summed.\n",
    "\n",
    "## 1.1:  \"QuickCompute Volatility\"\n",
    "\n",
    "The quickest approach to computing volatility would be to simply produce the count of individual report rows per station.  There is already a great deal\n",
    "of spread on that particular metric.\n",
    "\n",
    "Let's compute a histogram based on QC volatility!\n"
   ]
  },
  {
   "cell_type": "code",
   "execution_count": null,
   "metadata": {},
   "outputs": [],
   "source": [
    "df = df.drop(columns=['is_installed','is_renting','is_returning','ts'], \n",
    "             errors='ignore')"
   ]
  },
  {
   "cell_type": "code",
   "execution_count": null,
   "metadata": {},
   "outputs": [],
   "source": [
    "df.dtypes"
   ]
  },
  {
   "cell_type": "code",
   "execution_count": null,
   "metadata": {},
   "outputs": [],
   "source": [
    "df.shape"
   ]
  },
  {
   "cell_type": "code",
   "execution_count": null,
   "metadata": {},
   "outputs": [],
   "source": [
    "df = df.drop_duplicates()"
   ]
  },
  {
   "cell_type": "code",
   "execution_count": null,
   "metadata": {},
   "outputs": [],
   "source": [
    "df.shape"
   ]
  },
  {
   "cell_type": "code",
   "execution_count": null,
   "metadata": {},
   "outputs": [],
   "source": [
    "df.sort_values(by=['station_id','most_recent_conn_DT'], inplace=True)"
   ]
  },
  {
   "cell_type": "code",
   "execution_count": null,
   "metadata": {},
   "outputs": [],
   "source": [
    "# This will create an obj of type DataFrameGroupBy\n",
    "per_station_info = df.groupby('station_id')"
   ]
  },
  {
   "cell_type": "code",
   "execution_count": null,
   "metadata": {},
   "outputs": [],
   "source": [
    "# OK so there are 845 actual listed stations in the official station DB.\n",
    "# But not all are online as you can see here:\n",
    "per_station_info.ngroups"
   ]
  },
  {
   "cell_type": "code",
   "execution_count": null,
   "metadata": {},
   "outputs": [],
   "source": [
    "type(per_station_info)"
   ]
  },
  {
   "cell_type": "code",
   "execution_count": null,
   "metadata": {},
   "outputs": [],
   "source": []
  },
  {
   "cell_type": "code",
   "execution_count": null,
   "metadata": {},
   "outputs": [],
   "source": []
  },
  {
   "cell_type": "code",
   "execution_count": null,
   "metadata": {},
   "outputs": [],
   "source": [
    "# TRIVIAL  \"QuickVolatility\" is just the count per station.\n",
    "# Let's create a dataframe that can rankorder all the stations?\n",
    "df_station_to_quickvol = per_station_info.count().join(STATIONDB)\n",
    "# we now have a dataframe, and we have the station names/geo info in there via that join.\n",
    "df_station_to_quickvol.hist(column='last_reported',bins=10)"
   ]
  },
  {
   "cell_type": "code",
   "execution_count": null,
   "metadata": {},
   "outputs": [],
   "source": []
  },
  {
   "cell_type": "code",
   "execution_count": null,
   "metadata": {},
   "outputs": [],
   "source": [
    "df_station_to_quickvol__most_active = df_station_to_quickvol.sort_values(by='last_reported', ascending=False)[:20]"
   ]
  },
  {
   "cell_type": "code",
   "execution_count": null,
   "metadata": {},
   "outputs": [],
   "source": [
    "topstation = df_station_to_quickvol__most_active.iloc[0]\n",
    "topstation"
   ]
  },
  {
   "cell_type": "markdown",
   "metadata": {},
   "source": [
    "# The Top 20 Most-Active Stations"
   ]
  },
  {
   "cell_type": "code",
   "execution_count": null,
   "metadata": {},
   "outputs": [],
   "source": [
    "df_station_to_quickvol__most_active['name']"
   ]
  },
  {
   "cell_type": "code",
   "execution_count": null,
   "metadata": {},
   "outputs": [],
   "source": [
    "# For GMaps to function, Google requires you obtain and enable an API key:\n",
    "#     https://developers.google.com/maps/documentation/javascript/get-api-keyfrom credentials import GOOMAPSAPIKEY"
   ]
  },
  {
   "cell_type": "code",
   "execution_count": null,
   "metadata": {},
   "outputs": [],
   "source": [
    "from bokeh.io import output_file, show, reset_output\n",
    "from bokeh.models import ColumnDataSource, GMapOptions\n",
    "from bokeh.plotting import gmap\n",
    "\n",
    "reset_output()\n",
    "output_file(\"nyc_gmaps_2.html\")\n",
    "\n",
    "map_options = GMapOptions(lat=topstation['lat'],\n",
    "                          lng=topstation['lon'], map_type=\"roadmap\", zoom=11)\n",
    "\n",
    "p = gmap(GOOMAPSAPIKEY, map_options, title=\"Most Active CitiBike Stations\")\n",
    "\n",
    "source = ColumnDataSource(\n",
    "    data=dict(lat=df_station_to_quickvol__most_active['lat'],\n",
    "              lon=df_station_to_quickvol__most_active['lon'])\n",
    ")\n",
    "\n",
    "p.circle(x=\"lon\", y=\"lat\", size=10, fill_color=\"blue\", fill_alpha=0.8, source=source)\n",
    "\n",
    "show(p)"
   ]
  },
  {
   "cell_type": "code",
   "execution_count": null,
   "metadata": {},
   "outputs": [],
   "source": []
  },
  {
   "cell_type": "markdown",
   "metadata": {},
   "source": [
    "# The Least-Active Stations"
   ]
  },
  {
   "cell_type": "code",
   "execution_count": null,
   "metadata": {},
   "outputs": [],
   "source": [
    "num_stations = len(df_station_to_quickvol)\n",
    "df_station_to_quickvol__bottomfeeders = df_station_to_quickvol.sort_values(by='last_reported', ascending=False)[num_stations-20:num_stations-1]"
   ]
  },
  {
   "cell_type": "code",
   "execution_count": null,
   "metadata": {},
   "outputs": [],
   "source": [
    "df_station_to_quickvol__bottomfeeders"
   ]
  },
  {
   "cell_type": "code",
   "execution_count": null,
   "metadata": {},
   "outputs": [],
   "source": [
    "from bokeh.io import output_file, show, reset_output\n",
    "from bokeh.models import ColumnDataSource, GMapOptions\n",
    "from bokeh.plotting import gmap\n",
    "\n",
    "reset_output()\n",
    "output_file(\"nyc_least_active.html\")\n",
    "\n",
    "map_options = GMapOptions(lat=topstation['lat'],\n",
    "                          lng=topstation['lon'], map_type=\"roadmap\", zoom=11)\n",
    "\n",
    "p = gmap(GOOMAPSAPIKEY, map_options, title=\"Least Active CitiBike Stations\")\n",
    "\n",
    "source = ColumnDataSource(\n",
    "    data=dict(lat=df_station_to_quickvol__bottomfeeders['lat'],\n",
    "              lon=df_station_to_quickvol__bottomfeeders['lon'])\n",
    ")\n",
    "\n",
    "p.circle(x=\"lon\", y=\"lat\", size=10, fill_color=\"red\", fill_alpha=0.8, source=source)\n",
    "\n",
    "show(p)"
   ]
  },
  {
   "cell_type": "markdown",
   "metadata": {},
   "source": [
    "## Oddness\n",
    "\n",
    "I have a weird feeling about these stations I've marked as inactive.  Many are in prime areas of Manhattan.\n",
    "\n",
    "So I want to do more research and have chosen to look at station 523.\n"
   ]
  },
  {
   "cell_type": "code",
   "execution_count": null,
   "metadata": {},
   "outputs": [],
   "source": []
  }
 ],
 "metadata": {
  "kernelspec": {
   "display_name": "Python 3",
   "language": "python",
   "name": "python3"
  },
  "language_info": {
   "codemirror_mode": {
    "name": "ipython",
    "version": 3
   },
   "file_extension": ".py",
   "mimetype": "text/x-python",
   "name": "python",
   "nbconvert_exporter": "python",
   "pygments_lexer": "ipython3",
   "version": "3.6.7"
  }
 },
 "nbformat": 4,
 "nbformat_minor": 2
}
